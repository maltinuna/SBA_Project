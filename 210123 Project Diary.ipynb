{
 "cells": [
  {
   "cell_type": "markdown",
   "metadata": {},
   "source": [
    "# 210123 Project Diary"
   ]
  },
  {
   "cell_type": "raw",
   "metadata": {},
   "source": [
    "1. WdbdriverWait :  파싱을 다 하기 전에 코드가 넘어가는 것 방지하기 위한 코드 (크롤링 할 내용이 많을 때 생기는 오류 방지)\n",
    "    -> 한경 컨센서스 본문 크롤링 시! 내용 넘 많아서"
   ]
  },
  {
   "cell_type": "code",
   "execution_count": null,
   "metadata": {},
   "outputs": [],
   "source": [
    "#예시\n",
    "element = WebDriverWait(row, 2).until(EC.presence_of_element_located((By.CSS_SELECTOR, \"div\")))\n",
    "\n",
    "# CSS SELECTOR가 row에서 div를 다 가져올 때까지 2초 기다리라는 뜻"
   ]
  },
  {
   "cell_type": "raw",
   "metadata": {},
   "source": [
    "2. 예외처리 명령어 (try, except, else, finally)\n",
    "     -> 지난 번에 다른 분들께서 쿠팡 크롤링 코드 짜신 것 보고 try라는 명령어 처음 봐서 검색해봤는데, except, finally도 있다는 것을 오늘 알았다.\n",
    "     -> 위 네 가지를 모두 사용할 필요는 없다.\n",
    "     -> 프로그래밍시 직면하는 수많은 오류를 무시해야할 경우, 오류에 따라 적절한 조치를 취하고 싶은 경우 사용하는 명령어"
   ]
  },
  {
   "cell_type": "code",
   "execution_count": 1,
   "metadata": {},
   "outputs": [
    {
     "name": "stdout",
     "output_type": "stream",
     "text": [
      "wrong division\n"
     ]
    }
   ],
   "source": [
    "#기본: try절과 except 절 - try에는 기복적으로 실행하는 코드, except절에는 에러가 발생했을 경우 시행할 코드\n",
    "try:\n",
    "    print(5/0)\n",
    "except:\n",
    "    print('wrong division')"
   ]
  },
  {
   "cell_type": "code",
   "execution_count": 2,
   "metadata": {},
   "outputs": [
    {
     "name": "stdout",
     "output_type": "stream",
     "text": [
      "wrong division\n"
     ]
    }
   ],
   "source": [
    "#오류 명시시 다른 에러 발생하면 except 절에서 처리하지 않는 경우\n",
    "try:\n",
    "    print(5/0)\n",
    "except ZeroDivisionError:\n",
    "    print('wrong division')"
   ]
  },
  {
   "cell_type": "code",
   "execution_count": 4,
   "metadata": {
    "scrolled": true
   },
   "outputs": [
    {
     "name": "stdout",
     "output_type": "stream",
     "text": [
      "e\n"
     ]
    }
   ],
   "source": [
    "#ZeroDivisionError 에러에 저장되어있는 str 출력\n",
    "try:\n",
    "    print(5/0)\n",
    "except ZeroDivisionError as e:\n",
    "    print('e')"
   ]
  },
  {
   "cell_type": "code",
   "execution_count": 5,
   "metadata": {},
   "outputs": [
    {
     "name": "stdout",
     "output_type": "stream",
     "text": [
      "5.0\n",
      "no error\n"
     ]
    }
   ],
   "source": [
    "# try, except 절에 else 절 추가 - else 절은 예외가 발생하지 않아 except 절을 실행하지 않았을 경우 실행되는 절\n",
    "\n",
    "try:\n",
    "    print(5/1)\n",
    "except:\n",
    "    print('error')\n",
    "else:\n",
    "    print('no error')"
   ]
  },
  {
   "cell_type": "code",
   "execution_count": 6,
   "metadata": {},
   "outputs": [
    {
     "name": "stdout",
     "output_type": "stream",
     "text": [
      "error\n",
      "end\n"
     ]
    }
   ],
   "source": [
    "# try, except 절에 finally 절 추가 - finally절은 try 절에서 예외의 발생여부에 관계없이 항상 실행되는 절\n",
    "try:\n",
    "    print(5/0)\n",
    "except:\n",
    "    print('error')\n",
    "finally:\n",
    "    print('end')"
   ]
  },
  {
   "cell_type": "code",
   "execution_count": 7,
   "metadata": {},
   "outputs": [
    {
     "name": "stdout",
     "output_type": "stream",
     "text": [
      "division by zero\n"
     ]
    }
   ],
   "source": [
    "#여러 개의 에러 처리하기\n",
    "try:\n",
    "    print(5/0)\n",
    "    print(c)\n",
    "\n",
    "except NameError as e:\n",
    "    print(e)\n",
    "except ZeroDivisionError as e:\n",
    "    print(e)"
   ]
  },
  {
   "cell_type": "code",
   "execution_count": 8,
   "metadata": {},
   "outputs": [],
   "source": [
    "#오류 회피하기\n",
    "try:\n",
    "    print(5/0)\n",
    "    print(c)\n",
    "\n",
    "except NameError as e:\n",
    "    print(e)\n",
    "except ZeroDivisionError as e:\n",
    "    pass"
   ]
  },
  {
   "cell_type": "code",
   "execution_count": 9,
   "metadata": {
    "scrolled": true
   },
   "outputs": [
    {
     "name": "stdout",
     "output_type": "stream",
     "text": [
      "0\n",
      "0\n"
     ]
    }
   ],
   "source": [
    "#오류 발생시키기\n",
    "try:\n",
    "    age = int(input())\n",
    "    if age<0:\n",
    "        raise NotImplementedError #아직 작성되지 않은 에러라는 뜻\n",
    "    print(age)\n",
    "\n",
    "except NotImplementedError:\n",
    "    print('NotImplementedError')"
   ]
  },
  {
   "cell_type": "raw",
   "metadata": {},
   "source": [
    "예외처리 내용 출처ㅣhttps://gomguard.tistory.com/122"
   ]
  }
 ],
 "metadata": {
  "kernelspec": {
   "display_name": "Python 3",
   "language": "python",
   "name": "python3"
  },
  "language_info": {
   "codemirror_mode": {
    "name": "ipython",
    "version": 3
   },
   "file_extension": ".py",
   "mimetype": "text/x-python",
   "name": "python",
   "nbconvert_exporter": "python",
   "pygments_lexer": "ipython3",
   "version": "3.8.5"
  }
 },
 "nbformat": 4,
 "nbformat_minor": 4
}
