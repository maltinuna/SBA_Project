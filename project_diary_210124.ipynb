{
 "cells": [
  {
   "cell_type": "markdown",
   "metadata": {},
   "source": [
    "# 마크다운 연습\n",
    "## 주피터노트북으로 이쁘게 글써보기\n",
    "\n",
    "> 방금 깨달았다. 그냥 마크다운에 글을 쓰면 되는 것이었다... raw로 해서 써는 것이 아니었다!!! 대박사건 ㅎㅎ\n",
    "\n",
    "'>' 이 표시는 인용구 작성\n",
    "\n",
    "* 별 한 개는 이탤릭체\n",
    "\n",
    "** 별 두 개는 볼드\n",
    "\n",
    "'-'입력하고 띄어쓰기하면 불릿 표시!\n",
    "- 이렇게 불릿 표시\n",
    "    - 들여쓰기 하고 - 입력하면 하위 단위로 표시됨!\n",
    "\n",
    "1. 숫자와 . 작성하면\n",
    "2. 순서 리스트 작성 가능\n",
    "\n",
    "수식 입력할 때는 달러 표시로 감싸주기\n",
    "$ y = x + 5 $\n",
    "\n",
    "```print('Hello world')```\n",
    "이렇게 코드 입력할 때는 `를 3번 사용해서 감싸주기\n",
    "\n",
    "- 링크: '[]()'\n",
    "[내 네이버 블로그](https://blog.naver.com/rlawpwp0126)\n",
    "\n",
    "성공😆😆 앞으로 이렇게 정리 해야겠다!!!! 기분 쏘 굿"
   ]
  }
 ],
 "metadata": {
  "kernelspec": {
   "display_name": "Python 3",
   "language": "python",
   "name": "python3"
  },
  "language_info": {
   "codemirror_mode": {
    "name": "ipython",
    "version": 3
   },
   "file_extension": ".py",
   "mimetype": "text/x-python",
   "name": "python",
   "nbconvert_exporter": "python",
   "pygments_lexer": "ipython3",
   "version": "3.8.5"
  }
 },
 "nbformat": 4,
 "nbformat_minor": 4
}
